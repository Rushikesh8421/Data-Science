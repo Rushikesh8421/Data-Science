{
 "cells": [
  {
   "cell_type": "markdown",
   "metadata": {},
   "source": [
    "# Regex"
   ]
  },
  {
   "cell_type": "code",
   "execution_count": 1,
   "metadata": {},
   "outputs": [],
   "source": [
    "import re"
   ]
  },
  {
   "cell_type": "code",
   "execution_count": 2,
   "metadata": {},
   "outputs": [
    {
     "name": "stdout",
     "output_type": "stream",
     "text": [
      "Wonderfull!\n"
     ]
    }
   ],
   "source": [
    "# search() function\n",
    "text = \"This is good day!\";\n",
    "\n",
    "if re.search(\"good\", text):\n",
    "    print(\"Wonderfull!\")\n",
    "else:\n",
    "    print(\"Alash :(\")"
   ]
  },
  {
   "cell_type": "code",
   "execution_count": 3,
   "metadata": {},
   "outputs": [],
   "source": [
    "# String segmentation, the work done by regex is here tockenizing here the string is seperated into substring \n",
    "# based on patterns. Tokenizing is a core activity of natural language processing\n",
    "\n",
    "# findall() and split() will prase the string for us and return chunks\n",
    "text = \"Amy workes hard. Amy scored good grades. Our student Amy is very successfull girl\""
   ]
  },
  {
   "cell_type": "code",
   "execution_count": 4,
   "metadata": {},
   "outputs": [
    {
     "data": {
      "text/plain": [
       "['',\n",
       " ' workes hard. ',\n",
       " ' scored good grades. Our student ',\n",
       " ' is very successfull girl']"
      ]
     },
     "execution_count": 4,
     "metadata": {},
     "output_type": "execute_result"
    }
   ],
   "source": [
    "re.split(\"Amy\", text)"
   ]
  },
  {
   "cell_type": "code",
   "execution_count": 5,
   "metadata": {},
   "outputs": [
    {
     "data": {
      "text/plain": [
       "['Amy', 'Amy', 'Amy']"
      ]
     },
     "execution_count": 5,
     "metadata": {},
     "output_type": "execute_result"
    }
   ],
   "source": [
    "re.findall(\"Amy\", text)"
   ]
  },
  {
   "cell_type": "code",
   "execution_count": 6,
   "metadata": {},
   "outputs": [
    {
     "data": {
      "text/plain": [
       "<re.Match object; span=(0, 3), match='Amy'>"
      ]
     },
     "execution_count": 6,
     "metadata": {},
     "output_type": "execute_result"
    }
   ],
   "source": [
    "re.search(\"Amy\", text) # here it returns re.match object"
   ]
  },
  {
   "cell_type": "code",
   "execution_count": 7,
   "metadata": {},
   "outputs": [
    {
     "data": {
      "text/plain": [
       "['B', 'B', 'B']"
      ]
     },
     "execution_count": 7,
     "metadata": {},
     "output_type": "execute_result"
    }
   ],
   "source": [
    "grades = \"ABAAAACAABBC\"\n",
    "\n",
    "# No of B in above string\n",
    "re.findall(\"B\", grades)"
   ]
  },
  {
   "cell_type": "code",
   "execution_count": 8,
   "metadata": {},
   "outputs": [
    {
     "data": {
      "text/plain": [
       "['A', 'B', 'A', 'A', 'A', 'A', 'A', 'A', 'B', 'B']"
      ]
     },
     "execution_count": 8,
     "metadata": {},
     "output_type": "execute_result"
    }
   ],
   "source": [
    "# To find all no of A and B in grade string we cannot do \"AB\" because it will find pattern of A and B in respective\n",
    "# manner. So that we use \"[AB]\" to get total no of A or B randomly\n",
    "re.findall(\"[AB]\", grades)"
   ]
  },
  {
   "cell_type": "code",
   "execution_count": 9,
   "metadata": {},
   "outputs": [
    {
     "data": {
      "text/plain": [
       "['AB', 'AB']"
      ]
     },
     "execution_count": 9,
     "metadata": {},
     "output_type": "execute_result"
    }
   ],
   "source": [
    "# else the second possibility \n",
    "re.findall(\"AB\", grades)"
   ]
  },
  {
   "cell_type": "code",
   "execution_count": 10,
   "metadata": {},
   "outputs": [
    {
     "name": "stdout",
     "output_type": "stream",
     "text": [
      "['AB', 'AC', 'AB']\n",
      "['AB', 'AC', 'AB']\n"
     ]
    }
   ],
   "source": [
    "# A followed by B or C we pass \"[A][B-C]\" optional we can also use AB|AC\n",
    "print(re.findall(\"[A][B-C]\", grades))\n",
    "print(re.findall(\"AC|AB\", grades))"
   ]
  },
  {
   "cell_type": "code",
   "execution_count": 11,
   "metadata": {},
   "outputs": [
    {
     "data": {
      "text/plain": [
       "['B', 'C', 'B', 'B', 'C']"
      ]
     },
     "execution_count": 11,
     "metadata": {},
     "output_type": "execute_result"
    }
   ],
   "source": [
    "# Grades which are not A then we pass \"[^A]\"\n",
    "re.findall(\"[^A]\", grades)"
   ]
  },
  {
   "cell_type": "code",
   "execution_count": 12,
   "metadata": {},
   "outputs": [
    {
     "data": {
      "text/plain": [
       "[]"
      ]
     },
     "execution_count": 12,
     "metadata": {},
     "output_type": "execute_result"
    }
   ],
   "source": [
    "# In regex we start the string with ^ and end with $\n",
    "# But as we saw above the symbol ^ works differently inside [] i.e set operator, lets see this example\n",
    "re.findall(\"^[^A]\", grades)"
   ]
  },
  {
   "cell_type": "code",
   "execution_count": 13,
   "metadata": {},
   "outputs": [],
   "source": [
    "# its empty beacause the ^ operator outside [] means any regex string starts and the grade string starts with A \n",
    "# so it was ^[^A] means the list which starts with not of A so its empty"
   ]
  },
  {
   "cell_type": "markdown",
   "metadata": {},
   "source": [
    "# Quantifiers"
   ]
  },
  {
   "cell_type": "code",
   "execution_count": 14,
   "metadata": {},
   "outputs": [
    {
     "data": {
      "text/plain": [
       "['A', 'AAA', 'A', 'AA']"
      ]
     },
     "execution_count": 14,
     "metadata": {},
     "output_type": "execute_result"
    }
   ],
   "source": [
    "# Quantifiers are the no of times you want a pattern to be matched in order to match. The most basic Quantifier is\n",
    "# expressed as e{m,n} where is e is the expression or character we are matching, m is the minimum no of items you \n",
    "# want it to be matched and n is the maximum no of items it can be matched\n",
    "\n",
    "re.findall(\"A{1,3}\", grades) #grades = \"ABAAACAABBC\". Here no of A's in grades must be from 1 or 2 or 3 continusly\n",
    "# as the command is passed A{1,3} in parameter here A is element min, max = 1,3 resp.so the no of A 1,2or upto 3max"
   ]
  },
  {
   "cell_type": "code",
   "execution_count": 15,
   "metadata": {},
   "outputs": [
    {
     "data": {
      "text/plain": [
       "['AA', 'AA', 'AA']"
      ]
     },
     "execution_count": 15,
     "metadata": {},
     "output_type": "execute_result"
    }
   ],
   "source": [
    "# if we wanna find the two A at a time at once then \n",
    "re.findall(\"A{1,1}A{1,1}\",grades)"
   ]
  },
  {
   "cell_type": "code",
   "execution_count": 16,
   "metadata": {},
   "outputs": [
    {
     "data": {
      "text/plain": [
       "['AA', 'AA', 'AA']"
      ]
     },
     "execution_count": 16,
     "metadata": {},
     "output_type": "execute_result"
    }
   ],
   "source": [
    "# The above means the same with \n",
    "re.findall(\"AA\", grades)"
   ]
  },
  {
   "cell_type": "code",
   "execution_count": 17,
   "metadata": {},
   "outputs": [
    {
     "data": {
      "text/plain": [
       "[]"
      ]
     },
     "execution_count": 17,
     "metadata": {},
     "output_type": "execute_result"
    }
   ],
   "source": [
    "# if there is any change in original syntax the output will be empty list e.g. a space after , in {1, 3}\n",
    "re.findall(\"A{1, 3}\", grades)"
   ]
  },
  {
   "cell_type": "code",
   "execution_count": 18,
   "metadata": {},
   "outputs": [
    {
     "data": {
      "text/plain": [
       "['AA', 'AA', 'AA']"
      ]
     },
     "execution_count": 18,
     "metadata": {},
     "output_type": "execute_result"
    }
   ],
   "source": [
    "# If there is one one parameter in braket then it is considered as both min and max\n",
    "re.findall(\"A{2}\", grades)"
   ]
  },
  {
   "cell_type": "code",
   "execution_count": 19,
   "metadata": {},
   "outputs": [
    {
     "data": {
      "text/plain": [
       "['AABBC']"
      ]
     },
     "execution_count": 19,
     "metadata": {},
     "output_type": "execute_result"
    }
   ],
   "source": [
    "# Using this we could find a decreasing tend in student grade\n",
    "re.findall(\"A{1,10}B{1,10}C{1,10}\", grades)"
   ]
  },
  {
   "cell_type": "code",
   "execution_count": 20,
   "metadata": {},
   "outputs": [
    {
     "data": {
      "text/plain": [
       "[{'Series_reference': 'BDCQ.SF1AA2CA',\n",
       "  'Period': '2016.06',\n",
       "  'Data_value': '1116.386',\n",
       "  'Suppressed': '',\n",
       "  'STATUS': 'F',\n",
       "  'UNITS': 'Dollars',\n",
       "  'Magnitude': '6',\n",
       "  'Subject': 'Business Data Collection - BDC',\n",
       "  'Group': 'Industry by financial variable',\n",
       "  'Series_title_1': 'Sales (operating income)',\n",
       "  'Series_title_2': 'Forestry and Logging',\n",
       "  'Series_title_3': 'Current prices',\n",
       "  'Series_title_4': 'Unadjusted',\n",
       "  'Series_title_5': ''},\n",
       " {'Series_reference': 'BDCQ.SF1AA2CA',\n",
       "  'Period': '2016.09',\n",
       "  'Data_value': '1070.874',\n",
       "  'Suppressed': '',\n",
       "  'STATUS': 'F',\n",
       "  'UNITS': 'Dollars',\n",
       "  'Magnitude': '6',\n",
       "  'Subject': 'Business Data Collection - BDC',\n",
       "  'Group': 'Industry by financial variable',\n",
       "  'Series_title_1': 'Sales (operating income)',\n",
       "  'Series_title_2': 'Forestry and Logging',\n",
       "  'Series_title_3': 'Current prices',\n",
       "  'Series_title_4': 'Unadjusted',\n",
       "  'Series_title_5': ''},\n",
       " {'Series_reference': 'BDCQ.SF1AA2CA',\n",
       "  'Period': '2016.12',\n",
       "  'Data_value': '1054.408',\n",
       "  'Suppressed': '',\n",
       "  'STATUS': 'F',\n",
       "  'UNITS': 'Dollars',\n",
       "  'Magnitude': '6',\n",
       "  'Subject': 'Business Data Collection - BDC',\n",
       "  'Group': 'Industry by financial variable',\n",
       "  'Series_title_1': 'Sales (operating income)',\n",
       "  'Series_title_2': 'Forestry and Logging',\n",
       "  'Series_title_3': 'Current prices',\n",
       "  'Series_title_4': 'Unadjusted',\n",
       "  'Series_title_5': ''},\n",
       " {'Series_reference': 'BDCQ.SF1AA2CA',\n",
       "  'Period': '2017.03',\n",
       "  'Data_value': '1010.665',\n",
       "  'Suppressed': '',\n",
       "  'STATUS': 'F',\n",
       "  'UNITS': 'Dollars',\n",
       "  'Magnitude': '6',\n",
       "  'Subject': 'Business Data Collection - BDC',\n",
       "  'Group': 'Industry by financial variable',\n",
       "  'Series_title_1': 'Sales (operating income)',\n",
       "  'Series_title_2': 'Forestry and Logging',\n",
       "  'Series_title_3': 'Current prices',\n",
       "  'Series_title_4': 'Unadjusted',\n",
       "  'Series_title_5': ''},\n",
       " {'Series_reference': 'BDCQ.SF1AA2CA',\n",
       "  'Period': '2017.06',\n",
       "  'Data_value': '1233.7',\n",
       "  'Suppressed': '',\n",
       "  'STATUS': 'F',\n",
       "  'UNITS': 'Dollars',\n",
       "  'Magnitude': '6',\n",
       "  'Subject': 'Business Data Collection - BDC',\n",
       "  'Group': 'Industry by financial variable',\n",
       "  'Series_title_1': 'Sales (operating income)',\n",
       "  'Series_title_2': 'Forestry and Logging',\n",
       "  'Series_title_3': 'Current prices',\n",
       "  'Series_title_4': 'Unadjusted',\n",
       "  'Series_title_5': ''}]"
      ]
     },
     "execution_count": 20,
     "metadata": {},
     "output_type": "execute_result"
    }
   ],
   "source": [
    "# asteric * to match 0 or more items\n",
    "# ? to match one or more items\n",
    "# + to match one or more items\n",
    "import csv\n",
    "with open(\"data.csv\") as file:\n",
    "    wiki = list(csv.DictReader(file))\n",
    "fun = wiki[:5]\n",
    "fun"
   ]
  },
  {
   "cell_type": "code",
   "execution_count": 22,
   "metadata": {},
   "outputs": [
    {
     "ename": "TypeError",
     "evalue": "expected string or bytes-like object",
     "output_type": "error",
     "traceback": [
      "\u001b[0;31m---------------------------------------------------------------------------\u001b[0m",
      "\u001b[0;31mTypeError\u001b[0m                                 Traceback (most recent call last)",
      "\u001b[0;32m<ipython-input-22-35c01055957c>\u001b[0m in \u001b[0;36m<module>\u001b[0;34m\u001b[0m\n\u001b[0;32m----> 1\u001b[0;31m \u001b[0mre\u001b[0m\u001b[0;34m.\u001b[0m\u001b[0mfindall\u001b[0m\u001b[0;34m(\u001b[0m\u001b[0;34m\"[a-zA-Z]{1,100}\\[Period\\]\"\u001b[0m\u001b[0;34m,\u001b[0m \u001b[0mfun\u001b[0m\u001b[0;34m)\u001b[0m\u001b[0;34m\u001b[0m\u001b[0;34m\u001b[0m\u001b[0m\n\u001b[0m",
      "\u001b[0;32m~/anaconda3/lib/python3.8/re.py\u001b[0m in \u001b[0;36mfindall\u001b[0;34m(pattern, string, flags)\u001b[0m\n\u001b[1;32m    239\u001b[0m \u001b[0;34m\u001b[0m\u001b[0m\n\u001b[1;32m    240\u001b[0m     Empty matches are included in the result.\"\"\"\n\u001b[0;32m--> 241\u001b[0;31m     \u001b[0;32mreturn\u001b[0m \u001b[0m_compile\u001b[0m\u001b[0;34m(\u001b[0m\u001b[0mpattern\u001b[0m\u001b[0;34m,\u001b[0m \u001b[0mflags\u001b[0m\u001b[0;34m)\u001b[0m\u001b[0;34m.\u001b[0m\u001b[0mfindall\u001b[0m\u001b[0;34m(\u001b[0m\u001b[0mstring\u001b[0m\u001b[0;34m)\u001b[0m\u001b[0;34m\u001b[0m\u001b[0;34m\u001b[0m\u001b[0m\n\u001b[0m\u001b[1;32m    242\u001b[0m \u001b[0;34m\u001b[0m\u001b[0m\n\u001b[1;32m    243\u001b[0m \u001b[0;32mdef\u001b[0m \u001b[0mfinditer\u001b[0m\u001b[0;34m(\u001b[0m\u001b[0mpattern\u001b[0m\u001b[0;34m,\u001b[0m \u001b[0mstring\u001b[0m\u001b[0;34m,\u001b[0m \u001b[0mflags\u001b[0m\u001b[0;34m=\u001b[0m\u001b[0;36m0\u001b[0m\u001b[0;34m)\u001b[0m\u001b[0;34m:\u001b[0m\u001b[0;34m\u001b[0m\u001b[0;34m\u001b[0m\u001b[0m\n",
      "\u001b[0;31mTypeError\u001b[0m: expected string or bytes-like object"
     ]
    }
   ],
   "source": [
    "re.findall(\"[a-zA-Z]{1,100}\\[Period\\]\", fun)"
   ]
  },
  {
   "cell_type": "code",
   "execution_count": null,
   "metadata": {},
   "outputs": [],
   "source": []
  }
 ],
 "metadata": {
  "kernelspec": {
   "display_name": "Python 3",
   "language": "python",
   "name": "python3"
  },
  "language_info": {
   "codemirror_mode": {
    "name": "ipython",
    "version": 3
   },
   "file_extension": ".py",
   "mimetype": "text/x-python",
   "name": "python",
   "nbconvert_exporter": "python",
   "pygments_lexer": "ipython3",
   "version": "3.8.5"
  }
 },
 "nbformat": 4,
 "nbformat_minor": 4
}
